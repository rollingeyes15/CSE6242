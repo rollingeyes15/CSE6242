{
 "cells": [
  {
   "cell_type": "code",
   "execution_count": 1,
   "metadata": {},
   "outputs": [],
   "source": [
    "import numpy as np\n",
    "import pandas as pd\n",
    "import time\n",
    "\n",
    "from sklearn.model_selection import cross_val_score, GridSearchCV, cross_validate, train_test_split\n",
    "from sklearn.metrics import accuracy_score, classification_report\n",
    "from sklearn.svm import SVC\n",
    "from sklearn.linear_model import LinearRegression\n",
    "from sklearn.ensemble import RandomForestClassifier\n",
    "from sklearn.preprocessing import StandardScaler, normalize\n",
    "from sklearn.decomposition import PCA"
   ]
  },
  {
   "cell_type": "code",
   "execution_count": 2,
   "metadata": {},
   "outputs": [],
   "source": [
    "data = pd.read_csv('eeg_dataset.csv')\n",
    "\n",
    "# Separate out the x_data and y_data.\n",
    "x_data = data.loc[:, data.columns != \"y\"]\n",
    "y_data = data.loc[:, \"y\"]\n",
    "\n",
    "# The random state to use while splitting the data.\n",
    "random_state = 100"
   ]
  },
  {
   "cell_type": "code",
   "execution_count": 3,
   "metadata": {},
   "outputs": [
    {
     "data": {
      "text/plain": [
       "100"
      ]
     },
     "execution_count": 3,
     "metadata": {},
     "output_type": "execute_result"
    }
   ],
   "source": [
    "random_state"
   ]
  },
  {
   "cell_type": "code",
   "execution_count": 4,
   "metadata": {},
   "outputs": [],
   "source": [
    "# XXX\n",
    "# TODO: Split 70% of the data into training and 30% into test sets. Call them x_train, x_test, y_train and y_test.\n",
    "# Use the train_test_split method in sklearn with the parameter 'shuffle' set to true and the 'random_state' set to 100.\n",
    "# XXX\n",
    "\n",
    "x_train, x_test, y_train, y_test = train_test_split(x_data, y_data, test_size=0.30, random_state=random_state, shuffle=True)\n",
    "\n",
    "regr = LinearRegression()\n",
    "\n",
    "# Train the model using the training sets\n",
    "regr.fit(x_train, y_train)\n",
    "\n",
    "# Make predictions using the testing set\n",
    "y_test_pred_regr = regr.predict(x_test)\n",
    "y_train_pred_regr = regr.predict(x_train)\n",
    "test_accuracy_regr = round(accuracy_score(y_test, y_test_pred_regr.round()), 2)\n",
    "train_accurac_regr = round(accuracy_score(y_train, y_train_pred_regr.round()), 2)\n",
    "\n"
   ]
  },
  {
   "cell_type": "code",
   "execution_count": 5,
   "metadata": {},
   "outputs": [
    {
     "name": "stderr",
     "output_type": "stream",
     "text": [
      "C:\\ProgramData\\Anaconda3\\lib\\site-packages\\sklearn\\ensemble\\forest.py:246: FutureWarning: The default value of n_estimators will change from 10 in version 0.20 to 100 in 0.22.\n",
      "  \"10 in version 0.20 to 100 in 0.22.\", FutureWarning)\n"
     ]
    }
   ],
   "source": [
    "rf = RandomForestClassifier()\n",
    "rf.fit(x_train, y_train)\n",
    "y_test_pred_rf = rf.predict(x_test)\n",
    "y_train_pred_rf = rf.predict(x_train)\n",
    "test_accuracy_rf = round(accuracy_score(y_test, y_test_pred_rf.round()), 2)\n",
    "train_accurac_rf = round(accuracy_score(y_train, y_train_pred_rf.round()), 2)"
   ]
  },
  {
   "cell_type": "code",
   "execution_count": 6,
   "metadata": {},
   "outputs": [
    {
     "name": "stderr",
     "output_type": "stream",
     "text": [
      "C:\\ProgramData\\Anaconda3\\lib\\site-packages\\sklearn\\svm\\base.py:196: FutureWarning: The default value of gamma will change from 'auto' to 'scale' in version 0.22 to account better for unscaled features. Set gamma explicitly to 'auto' or 'scale' to avoid this warning.\n",
      "  \"avoid this warning.\", FutureWarning)\n"
     ]
    }
   ],
   "source": [
    "svc = SVC()\n",
    "svc.fit(x_train, y_train)\n",
    "y_test_pred_svc = svc.predict(x_test)\n",
    "y_train_pred_svc = svc.predict(x_train)\n",
    "test_accuracy_svc = round(accuracy_score(y_test, y_test_pred_svc.round()), 2)\n",
    "train_accurac_svc = round(accuracy_score(y_train, y_train_pred_svc.round()), 2)"
   ]
  },
  {
   "cell_type": "code",
   "execution_count": 7,
   "metadata": {},
   "outputs": [
    {
     "data": {
      "text/plain": [
       "0.54"
      ]
     },
     "execution_count": 7,
     "metadata": {},
     "output_type": "execute_result"
    }
   ],
   "source": [
    "test_accuracy_svc"
   ]
  },
  {
   "cell_type": "code",
   "execution_count": 8,
   "metadata": {},
   "outputs": [
    {
     "data": {
      "text/plain": [
       "1.0"
      ]
     },
     "execution_count": 8,
     "metadata": {},
     "output_type": "execute_result"
    }
   ],
   "source": [
    "train_accurac_svc"
   ]
  },
  {
   "cell_type": "code",
   "execution_count": 9,
   "metadata": {},
   "outputs": [],
   "source": [
    "scaler = StandardScaler()\n",
    "\n",
    "scaler_train = scaler.fit(x_train)\n",
    "\n",
    "# scaler_train\n",
    "\n",
    "# scaler_train.mean_\n",
    "\n",
    "pp =scaler_train.transform(x_train)\n",
    "\n",
    "# pp\n",
    "\n",
    "# rf\n",
    "\n",
    "params_rf = {\n",
    "    'bootstrap': [True],\n",
    "    'max_depth': [14, 40, 60, 100],\n",
    "    'n_estimators': [14, 35, 60, 85]\n",
    "}\n",
    "\n",
    "\n",
    "\n",
    "rf_tune = GridSearchCV(estimator = rf, param_grid = params_rf, cv=10, n_jobs = -1, verbose = 2)\n",
    "\n",
    "rf_tune.fit(pp, y_train)\n",
    "\n",
    "print(rf_tune.best_params_)\n",
    "\n",
    "rf2 = RandomForestClassifier(n_estimators=85, max_depth=60)\n",
    "\n",
    "rf2.fit(pp, y_train)\n",
    "\n",
    "y_test_pred_rf_tune = rf2.predict(scaler.transform(x_test))\n",
    "\n",
    "test_accuracy_rf_tune = round(accuracy_score(y_test, y_test_pred_rf_tune.round()), 2)\n",
    "\n",
    "# print(test_accuracy_rf_tune)\n",
    "print(rf_tune.best_score_)"
   ]
  },
  {
   "cell_type": "code",
   "execution_count": 107,
   "metadata": {},
   "outputs": [
    {
     "name": "stdout",
     "output_type": "stream",
     "text": [
      "0.9220865916460042\n"
     ]
    }
   ],
   "source": [
    "print(rf_tune.best_score_)"
   ]
  },
  {
   "cell_type": "code",
   "execution_count": 108,
   "metadata": {},
   "outputs": [],
   "source": [
    "params_svc = {'kernel':('linear', 'rbf'), 'C':[0.001, 0.01, 0.1, 1, 10]}\n",
    "\n",
    "svc_tune = GridSearchCV(estimator = svc, param_grid = params_svc, cv=10, n_jobs = -1, verbose = 2)\n",
    "\n",
    "svc_tune.fit(pp, y_train)\n",
    "\n",
    "print(svc_tune.best_params_)\n",
    "\n",
    "svc2 = SVC(C=10, kernel='rbf')\n",
    "\n",
    "svc2.fit(pp, y_train)\n",
    "\n",
    "y_test_pred_svc_tune = svc2.predict(scaler.transform(x_test))\n",
    "\n",
    "test_accuracy_svc_tune = round(accuracy_score(y_test, y_test_pred_svc_tune.round()), 2)\n",
    "# print(test_accuracy_svc_tune)\n",
    "\n",
    "\n",
    "print(round(svc_tune.best_score_, 2))"
   ]
  },
  {
   "cell_type": "code",
   "execution_count": null,
   "metadata": {},
   "outputs": [],
   "source": []
  }
 ],
 "metadata": {
  "kernelspec": {
   "display_name": "Python 3",
   "language": "python",
   "name": "python3"
  },
  "language_info": {
   "codemirror_mode": {
    "name": "ipython",
    "version": 3
   },
   "file_extension": ".py",
   "mimetype": "text/x-python",
   "name": "python",
   "nbconvert_exporter": "python",
   "pygments_lexer": "ipython3",
   "version": "3.7.1"
  }
 },
 "nbformat": 4,
 "nbformat_minor": 2
}
