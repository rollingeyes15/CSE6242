{
 "cells": [
  {
   "cell_type": "code",
   "execution_count": 1,
   "metadata": {},
   "outputs": [],
   "source": [
    "import numpy as np\n",
    "import pandas as pd\n",
    "import time\n",
    "\n",
    "from sklearn.model_selection import cross_val_score, GridSearchCV, cross_validate, train_test_split\n",
    "from sklearn.metrics import accuracy_score, classification_report\n",
    "from sklearn.svm import SVC\n",
    "from sklearn.linear_model import LinearRegression\n",
    "from sklearn.ensemble import RandomForestClassifier\n",
    "from sklearn.preprocessing import StandardScaler, normalize\n",
    "from sklearn.decomposition import PCA"
   ]
  },
  {
   "cell_type": "code",
   "execution_count": 2,
   "metadata": {},
   "outputs": [],
   "source": [
    "data = pd.read_csv('eeg_dataset.csv')\n",
    "\n",
    "# Separate out the x_data and y_data.\n",
    "x_data = data.loc[:, data.columns != \"y\"]\n",
    "y_data = data.loc[:, \"y\"]\n",
    "\n",
    "# The random state to use while splitting the data.\n",
    "random_state = 100"
   ]
  },
  {
   "cell_type": "code",
   "execution_count": 3,
   "metadata": {},
   "outputs": [
    {
     "data": {
      "text/plain": [
       "100"
      ]
     },
     "execution_count": 3,
     "metadata": {},
     "output_type": "execute_result"
    }
   ],
   "source": [
    "random_state"
   ]
  },
  {
   "cell_type": "code",
   "execution_count": 4,
   "metadata": {},
   "outputs": [],
   "source": [
    "# XXX\n",
    "# TODO: Split 70% of the data into training and 30% into test sets. Call them x_train, x_test, y_train and y_test.\n",
    "# Use the train_test_split method in sklearn with the parameter 'shuffle' set to true and the 'random_state' set to 100.\n",
    "# XXX\n",
    "\n",
    "x_train, x_test, y_train, y_test = train_test_split(x_data, y_data, test_size=0.30, random_state=random_state, shuffle=True)\n",
    "\n",
    "regr = LinearRegression()\n",
    "\n",
    "# Train the model using the training sets\n",
    "regr.fit(x_train, y_train)\n",
    "\n",
    "# Make predictions using the testing set\n",
    "y_test_pred_regr = regr.predict(x_test)\n",
    "y_train_pred_regr = regr.predict(x_train)\n",
    "test_accuracy_regr = round(accuracy_score(y_test, y_test_pred_regr.round()), 2)\n",
    "train_accurac_regr = round(accuracy_score(y_train, y_train_pred_regr.round()), 2)\n",
    "\n"
   ]
  },
  {
   "cell_type": "code",
   "execution_count": 5,
   "metadata": {},
   "outputs": [
    {
     "name": "stderr",
     "output_type": "stream",
     "text": [
      "C:\\ProgramData\\Anaconda3\\lib\\site-packages\\sklearn\\ensemble\\forest.py:246: FutureWarning: The default value of n_estimators will change from 10 in version 0.20 to 100 in 0.22.\n",
      "  \"10 in version 0.20 to 100 in 0.22.\", FutureWarning)\n"
     ]
    }
   ],
   "source": [
    "rf = RandomForestClassifier()\n",
    "rf.fit(x_train, y_train)\n",
    "y_test_pred_rf = rf.predict(x_test)\n",
    "y_train_pred_rf = rf.predict(x_train)\n",
    "test_accuracy_rf = round(accuracy_score(y_test, y_test_pred_rf.round()), 2)\n",
    "train_accurac_rf = round(accuracy_score(y_train, y_train_pred_rf.round()), 2)"
   ]
  },
  {
   "cell_type": "code",
   "execution_count": 6,
   "metadata": {},
   "outputs": [
    {
     "name": "stderr",
     "output_type": "stream",
     "text": [
      "C:\\ProgramData\\Anaconda3\\lib\\site-packages\\sklearn\\svm\\base.py:196: FutureWarning: The default value of gamma will change from 'auto' to 'scale' in version 0.22 to account better for unscaled features. Set gamma explicitly to 'auto' or 'scale' to avoid this warning.\n",
      "  \"avoid this warning.\", FutureWarning)\n"
     ]
    }
   ],
   "source": [
    "svc = SVC()\n",
    "svc.fit(x_train, y_train)\n",
    "y_test_pred_svc = svc.predict(x_test)\n",
    "y_train_pred_svc = svc.predict(x_train)\n",
    "test_accuracy_svc = round(accuracy_score(y_test, y_test_pred_svc.round()), 2)\n",
    "train_accurac_svc = round(accuracy_score(y_train, y_train_pred_svc.round()), 2)"
   ]
  },
  {
   "cell_type": "code",
   "execution_count": 7,
   "metadata": {},
   "outputs": [
    {
     "data": {
      "text/plain": [
       "0.54"
      ]
     },
     "execution_count": 7,
     "metadata": {},
     "output_type": "execute_result"
    }
   ],
   "source": [
    "test_accuracy_svc"
   ]
  },
  {
   "cell_type": "code",
   "execution_count": 8,
   "metadata": {},
   "outputs": [
    {
     "data": {
      "text/plain": [
       "1.0"
      ]
     },
     "execution_count": 8,
     "metadata": {},
     "output_type": "execute_result"
    }
   ],
   "source": [
    "train_accurac_svc"
   ]
  },
  {
   "cell_type": "code",
   "execution_count": 9,
   "metadata": {},
   "outputs": [
    {
     "name": "stdout",
     "output_type": "stream",
     "text": [
      "Fitting 10 folds for each of 16 candidates, totalling 160 fits\n"
     ]
    },
    {
     "name": "stderr",
     "output_type": "stream",
     "text": [
      "[Parallel(n_jobs=-1)]: Using backend LokyBackend with 8 concurrent workers.\n",
      "[Parallel(n_jobs=-1)]: Done  25 tasks      | elapsed:   10.3s\n",
      "[Parallel(n_jobs=-1)]: Done 160 out of 160 | elapsed:   33.2s finished\n"
     ]
    },
    {
     "name": "stdout",
     "output_type": "stream",
     "text": [
      "{'bootstrap': True, 'max_depth': 60, 'n_estimators': 85}\n",
      "0.9228495136372306\n"
     ]
    }
   ],
   "source": [
    "scaler = StandardScaler()\n",
    "\n",
    "scaler_train = scaler.fit(x_train)\n",
    "\n",
    "# scaler_train\n",
    "\n",
    "# scaler_train.mean_\n",
    "\n",
    "pp =scaler_train.transform(x_train)\n",
    "\n",
    "# pp\n",
    "\n",
    "# rf\n",
    "\n",
    "params_rf = {\n",
    "    'bootstrap': [True],\n",
    "    'max_depth': [14, 40, 60, 100],\n",
    "    'n_estimators': [14, 35, 60, 85]\n",
    "}\n",
    "\n",
    "\n",
    "\n",
    "rf_tune = GridSearchCV(estimator = rf, param_grid = params_rf, cv=10, n_jobs = -1, verbose = 2)\n",
    "\n",
    "rf_tune.fit(pp, y_train)\n",
    "\n",
    "print(rf_tune.best_params_)\n",
    "\n",
    "rf2 = RandomForestClassifier(n_estimators=85, max_depth=60)\n",
    "\n",
    "rf2.fit(pp, y_train)\n",
    "\n",
    "y_test_pred_rf_tune = rf2.predict(scaler.transform(x_test))\n",
    "\n",
    "test_accuracy_rf_tune = round(accuracy_score(y_test, y_test_pred_rf_tune.round()), 2)\n",
    "\n",
    "# print(test_accuracy_rf_tune)\n",
    "print(rf_tune.best_score_)"
   ]
  },
  {
   "cell_type": "code",
   "execution_count": 10,
   "metadata": {},
   "outputs": [
    {
     "name": "stdout",
     "output_type": "stream",
     "text": [
      "0.9228495136372306\n"
     ]
    }
   ],
   "source": [
    "print(rf_tune.best_score_)"
   ]
  },
  {
   "cell_type": "code",
   "execution_count": 11,
   "metadata": {},
   "outputs": [
    {
     "name": "stdout",
     "output_type": "stream",
     "text": [
      "Fitting 10 folds for each of 10 candidates, totalling 100 fits\n"
     ]
    },
    {
     "name": "stderr",
     "output_type": "stream",
     "text": [
      "[Parallel(n_jobs=-1)]: Using backend LokyBackend with 8 concurrent workers.\n",
      "[Parallel(n_jobs=-1)]: Done  25 tasks      | elapsed:   32.0s\n",
      "[Parallel(n_jobs=-1)]: Done 100 out of 100 | elapsed:  2.5min finished\n"
     ]
    },
    {
     "name": "stdout",
     "output_type": "stream",
     "text": [
      "{'C': 10, 'kernel': 'rbf'}\n",
      "0.77\n"
     ]
    }
   ],
   "source": [
    "params_svc = {'kernel':('linear', 'rbf'), 'C':[0.001, 0.01, 0.1, 1, 10]}\n",
    "\n",
    "svc_tune = GridSearchCV(estimator = svc, param_grid = params_svc, cv=10, n_jobs = -1, verbose = 2)\n",
    "\n",
    "svc_tune.fit(pp, y_train)\n",
    "\n",
    "print(svc_tune.best_params_)\n",
    "\n",
    "svc2 = SVC(C=10, kernel='rbf')\n",
    "\n",
    "svc2.fit(pp, y_train)\n",
    "\n",
    "y_test_pred_svc_tune = svc2.predict(scaler.transform(x_test))\n",
    "\n",
    "test_accuracy_svc_tune = round(accuracy_score(y_test, y_test_pred_svc_tune.round()), 2)\n",
    "# print(test_accuracy_svc_tune)\n",
    "\n",
    "\n",
    "print(round(svc_tune.best_score_, 2))"
   ]
  },
  {
   "cell_type": "code",
   "execution_count": 12,
   "metadata": {},
   "outputs": [
    {
     "data": {
      "text/plain": [
       "dict_keys(['mean_fit_time', 'std_fit_time', 'mean_score_time', 'std_score_time', 'param_C', 'param_kernel', 'params', 'split0_test_score', 'split1_test_score', 'split2_test_score', 'split3_test_score', 'split4_test_score', 'split5_test_score', 'split6_test_score', 'split7_test_score', 'split8_test_score', 'split9_test_score', 'mean_test_score', 'std_test_score', 'rank_test_score', 'split0_train_score', 'split1_train_score', 'split2_train_score', 'split3_train_score', 'split4_train_score', 'split5_train_score', 'split6_train_score', 'split7_train_score', 'split8_train_score', 'split9_train_score', 'mean_train_score', 'std_train_score'])"
      ]
     },
     "execution_count": 12,
     "metadata": {},
     "output_type": "execute_result"
    }
   ],
   "source": [
    "svc_tune.cv_results_.keys()\n"
   ]
  },
  {
   "cell_type": "code",
   "execution_count": 28,
   "metadata": {},
   "outputs": [
    {
     "data": {
      "text/plain": [
       "4.76426362991333"
      ]
     },
     "execution_count": 28,
     "metadata": {},
     "output_type": "execute_result"
    }
   ],
   "source": [
    "svc_tune.cv_results_['mean_fit_time'][9]\n",
    "\n",
    "svc_tune.cv_results_['mean_train_score'][9]\n",
    "\n",
    "svc_tune.cv_results_['mean_test_score'][9]"
   ]
  },
  {
   "cell_type": "code",
   "execution_count": 35,
   "metadata": {},
   "outputs": [],
   "source": [
    "important_features_dict = {}\n",
    "for x,i in enumerate(rf.feature_importances_):\n",
    "    important_features_dict[x]=i\n",
    "\n",
    "\n",
    "important_features_list = sorted(important_features_dict,\n",
    "                                 key=important_features_dict.get,\n",
    "                                 reverse=True)\n",
    "\n"
   ]
  },
  {
   "cell_type": "code",
   "execution_count": 36,
   "metadata": {},
   "outputs": [
    {
     "name": "stdout",
     "output_type": "stream",
     "text": [
      "Most important features: %s [6, 5, 1, 0, 13, 12, 11, 3, 10, 4, 9, 2, 7, 8]\n"
     ]
    }
   ],
   "source": [
    "print('Most important features: %s', important_features_list)"
   ]
  },
  {
   "cell_type": "code",
   "execution_count": 37,
   "metadata": {},
   "outputs": [],
   "source": [
    "pca = PCA(n_components=10,svd_solver='full')"
   ]
  },
  {
   "cell_type": "code",
   "execution_count": 38,
   "metadata": {},
   "outputs": [
    {
     "data": {
      "text/plain": [
       "PCA(copy=True, iterated_power='auto', n_components=10, random_state=None,\n",
       "  svd_solver='full', tol=0.0, whiten=False)"
      ]
     },
     "execution_count": 38,
     "metadata": {},
     "output_type": "execute_result"
    }
   ],
   "source": [
    "pca.fit(x_data)"
   ]
  },
  {
   "cell_type": "code",
   "execution_count": 42,
   "metadata": {},
   "outputs": [
    {
     "name": "stdout",
     "output_type": "stream",
     "text": [
      "[5.05244700e-01 3.76936309e-01 1.17729460e-01 4.59941145e-05\n",
      " 1.92788922e-05 1.12325809e-05 6.78642894e-06 1.88971137e-06\n",
      " 1.54088292e-06 8.24289754e-07]\n"
     ]
    }
   ],
   "source": [
    "print(pca.explained_variance_ratio_)"
   ]
  },
  {
   "cell_type": "code",
   "execution_count": 40,
   "metadata": {},
   "outputs": [
    {
     "name": "stdout",
     "output_type": "stream",
     "text": [
      "[886690.55021511 765870.22149031 428019.7135883    8460.03827621\n",
      "   5477.2458465    4180.81523164   3249.68937137   1714.82156063\n",
      "   1548.48148676   1132.55981354]\n"
     ]
    }
   ],
   "source": [
    "print(pca.singular_values_)"
   ]
  },
  {
   "cell_type": "code",
   "execution_count": 43,
   "metadata": {},
   "outputs": [
    {
     "name": "stdout",
     "output_type": "stream",
     "text": [
      "[5.05244700e+01 3.76936309e+01 1.17729460e+01 4.59941145e-03\n",
      " 1.92788922e-03 1.12325809e-03 6.78642894e-04 1.88971137e-04\n",
      " 1.54088292e-04 8.24289754e-05]\n"
     ]
    }
   ],
   "source": [
    "print(pca.explained_variance_ratio_*100)"
   ]
  },
  {
   "cell_type": "code",
   "execution_count": null,
   "metadata": {},
   "outputs": [],
   "source": []
  }
 ],
 "metadata": {
  "kernelspec": {
   "display_name": "Python 3",
   "language": "python",
   "name": "python3"
  },
  "language_info": {
   "codemirror_mode": {
    "name": "ipython",
    "version": 3
   },
   "file_extension": ".py",
   "mimetype": "text/x-python",
   "name": "python",
   "nbconvert_exporter": "python",
   "pygments_lexer": "ipython3",
   "version": "3.7.1"
  }
 },
 "nbformat": 4,
 "nbformat_minor": 2
}
